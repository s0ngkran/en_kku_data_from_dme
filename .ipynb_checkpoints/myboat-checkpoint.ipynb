{
 "cells": [
  {
   "cell_type": "code",
   "execution_count": 1,
   "metadata": {},
   "outputs": [],
   "source": [
    "import random"
   ]
  },
  {
   "cell_type": "code",
   "execution_count": 2,
   "metadata": {},
   "outputs": [],
   "source": [
    "class Side:\n",
    "    def __init__(self, name, objs):\n",
    "        self.name = name\n",
    "        self.objs = objs\n",
    "        self.first_time = True\n",
    "    def move_to(self, other_side, n):\n",
    "\n",
    "        # select obj to move\n",
    "        random.shuffle(self.objs)\n",
    "        if self.first_time and self.name=='right-side':\n",
    "            self.first_time = False\n",
    "            res = True\n",
    "            moving = random.choice([[-8,8],[5,-5],[3,-3]])\n",
    "         \n",
    "            for i in moving:\n",
    "                obj = self.objs.remove(i)\n",
    "                other_side.receive(i)\n",
    "            action = self.cvt_moving_to_text(moving, other_side)\n",
    "           \n",
    "            return res, action\n",
    "            \n",
    "\n",
    "        moving = []\n",
    "        if len(self.objs) <= 2:\n",
    "            n = 1\n",
    "        # find person\n",
    "        for i in self.objs:\n",
    "            if i < 0:\n",
    "                self.objs.remove(i)\n",
    "                moving.append(i)\n",
    "                other_side.receive(i)\n",
    "                break\n",
    "        if n == 2:\n",
    "            obj = self.objs.pop(0)\n",
    "            moving.append(obj)\n",
    "            other_side.receive(obj)\n",
    "\n",
    "        action = self.cvt_moving_to_text(moving, other_side)\n",
    "        if self.is_valid(moving) and other_side.is_valid(moving):\n",
    "            res = True\n",
    "        else: \n",
    "            res = False\n",
    "        print(res, self.objs, other_side.objs)\n",
    "        return res, action\n",
    "    def cvt_moving_to_text(self, moving, other_side):\n",
    "        text = 'move'\n",
    "        for i in moving:\n",
    "            text += ' ' + str(i)\n",
    "        text += ' to ' + other_side.name +'\\n'\n",
    "        return text\n",
    "    def receive(self, obj):\n",
    "        self.objs.append(obj)\n",
    "    def is_valid(self, moving):\n",
    "        my_map = {\n",
    "            'red':-8,\n",
    "            'green':-5,\n",
    "            'blue':-3,\n",
    "            '8':8,\n",
    "            '5':5,\n",
    "            '3':3\n",
    "        }\n",
    "\n",
    "        found_person = False\n",
    "        for i in self.objs:\n",
    "            if i < 0:\n",
    "                found_person = True\n",
    "        \n",
    "        if found_person:\n",
    "            sum_ = sum(self.objs)\n",
    "            if sum_ > 0:\n",
    "                return False\n",
    "\n",
    "        return True\n",
    "def run():\n",
    "    left = Side('left-side', [])\n",
    "    right = Side('right-side', [-8,-5,-3,8,5,3])\n",
    "    cnt = 0\n",
    "    moving_success = []\n",
    "    while True:\n",
    "        success, action = right.move_to(left, 2)\n",
    "        if not success: \n",
    "            break\n",
    "        moving_success.append(action)\n",
    "        cnt += 1\n",
    "\n",
    "        # check win\n",
    "        print(len(left.objs), 'len left objs')\n",
    "        if len(left.objs) == 6:\n",
    "            return cnt, moving_success\n",
    "        success, action = left.move_to(right, random.randint(1,2))\n",
    "        if not success:\n",
    "            break\n",
    "        moving_success.append(action)\n",
    "        cnt += 1\n",
    "    return 9999, moving_success\n"
   ]
  },
  {
   "cell_type": "code",
   "execution_count": 5,
   "metadata": {},
   "outputs": [],
   "source": [
    "left = Side('left-side', [])\n",
    "right = Side('right-side', [-8,-5,-3,8,5,3])"
   ]
  },
  {
   "cell_type": "code",
   "execution_count": 8,
   "metadata": {},
   "outputs": [
    {
     "name": "stdout",
     "output_type": "stream",
     "text": [
      "False [5, 3, -3, -8] [8, -5]\n"
     ]
    },
    {
     "data": {
      "text/plain": [
       "(False, 'move -5 to left-side\\n')"
      ]
     },
     "execution_count": 8,
     "metadata": {},
     "output_type": "execute_result"
    }
   ],
   "source": [
    "right.move_to(left, random.randint(1,2))"
   ]
  },
  {
   "cell_type": "code",
   "execution_count": 7,
   "metadata": {},
   "outputs": [
    {
     "name": "stdout",
     "output_type": "stream",
     "text": [
      "True [8] [5, -3, -5, 3, -8]\n"
     ]
    },
    {
     "data": {
      "text/plain": [
       "(True, 'move -8 to right-side\\n')"
      ]
     },
     "execution_count": 7,
     "metadata": {},
     "output_type": "execute_result"
    }
   ],
   "source": [
    "left.move_to(right, random.randint(1,2))"
   ]
  },
  {
   "cell_type": "code",
   "execution_count": null,
   "metadata": {},
   "outputs": [],
   "source": []
  }
 ],
 "metadata": {
  "kernelspec": {
   "display_name": "Python 3",
   "language": "python",
   "name": "python3"
  },
  "language_info": {
   "codemirror_mode": {
    "name": "ipython",
    "version": 3
   },
   "file_extension": ".py",
   "mimetype": "text/x-python",
   "name": "python",
   "nbconvert_exporter": "python",
   "pygments_lexer": "ipython3",
   "version": "3.8.6"
  }
 },
 "nbformat": 4,
 "nbformat_minor": 2
}
